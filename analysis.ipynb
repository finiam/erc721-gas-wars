{
 "cells": [
  {
   "cell_type": "code",
   "execution_count": 2,
   "id": "861eaf52",
   "metadata": {},
   "outputs": [],
   "source": [
    "import re\n",
    "import matplotlib.pyplot as plt\n",
    "import pandas as pd"
   ]
  },
  {
   "cell_type": "code",
   "execution_count": 3,
   "id": "91c82506",
   "metadata": {},
   "outputs": [],
   "source": [
    "snapshot = open(\".gas-snapshot\", 'r').readlines()"
   ]
  },
  {
   "cell_type": "code",
   "execution_count": 4,
   "id": "1cdc6593",
   "metadata": {},
   "outputs": [
    {
     "data": {
      "text/plain": [
       "['AzukiTest:testMintMany() (gas: 50742021)\\n',\n",
       " 'AzukiTest:testSafeMintToERC721Recipient() (gas: 361250)\\n',\n",
       " 'AzukiTest:testTransferFrom() (gas: 505992)\\n',\n",
       " 'BlimpieTest:testMintMany() (gas: 286403908)\\n',\n",
       " 'BlimpieTest:testSafeMintToERC721Recipient() (gas: 338210)\\n',\n",
       " 'BlimpieTest:testTransferFrom() (gas: 459380)\\n',\n",
       " 'ERC721KTest:testMintMany() (gas: 46314247)\\n',\n",
       " 'ERC721KTest:testSafeMintToERC721Recipient() (gas: 363148)\\n',\n",
       " 'ERC721KTest:testTransferFrom() (gas: 487439)\\n',\n",
       " 'ElevenFiftyFiveDTest:testMintMany() (gas: 296936107)\\n',\n",
       " 'ElevenFiftyFiveDTest:testSafeMintToERC721Recipient() (gas: 531217)\\n',\n",
       " 'ElevenFiftyFiveDTest:testTransferFrom() (gas: 551653)\\n',\n",
       " 'GeneticChainTest:testMintMany() (gas: 281102498)\\n',\n",
       " 'GeneticChainTest:testSafeMintToERC721Recipient() (gas: 338486)\\n',\n",
       " 'GeneticChainTest:testTransferFrom() (gas: 462112)\\n',\n",
       " 'ManifoldTest:testMintMany() (gas: 521578683)\\n',\n",
       " 'ManifoldTest:testSafeMintToERC721Recipient() (gas: 409407)\\n',\n",
       " 'ManifoldTest:testTransferFrom() (gas: 514427)\\n',\n",
       " 'MasonChanceTest:testMintMany() (gas: 277997374)\\n',\n",
       " 'MasonChanceTest:testSafeMintToERC721Recipient() (gas: 337139)\\n',\n",
       " 'MasonChanceTest:testTransferFrom() (gas: 457545)\\n',\n",
       " 'OZTest:testMintMany() (gas: 284013814)\\n',\n",
       " 'OZTest:testSafeMintToERC721Recipient() (gas: 337855)\\n',\n",
       " 'OZTest:testTransferFrom() (gas: 462164)\\n',\n",
       " 'SolmateTest:testMintMany() (gas: 277997374)\\n',\n",
       " 'SolmateTest:testSafeMintToERC721Recipient() (gas: 337139)\\n',\n",
       " 'SolmateTest:testTransferFrom() (gas: 457545)\\n',\n",
       " 'TinyTest:testMintMany() (gas: 351492825)\\n',\n",
       " 'TinyTest:testSafeMintToERC721Recipient() (gas: 367049)\\n',\n",
       " 'TinyTest:testTransferFrom() (gas: 494610)\\n']"
      ]
     },
     "execution_count": 4,
     "metadata": {},
     "output_type": "execute_result"
    }
   ],
   "source": [
    "snapshot\n"
   ]
  },
  {
   "cell_type": "code",
   "execution_count": 5,
   "id": "995cb4b9",
   "metadata": {},
   "outputs": [],
   "source": [
    "def process_line(line):\n",
    "    regex= r\"^(.*)?:(.+\\(\\)) \\(gas: (\\d+)\\)$\"\n",
    "    regex_run = re.search(regex,line)\n",
    "    groups = regex_run.groups()\n",
    "    return {groups[0]:[{groups[1]: int(groups[2])}]}\n",
    "\n",
    "snapshot_processed = list(map(process_line,snapshot))"
   ]
  },
  {
   "cell_type": "code",
   "execution_count": 6,
   "id": "56e077a1",
   "metadata": {},
   "outputs": [
    {
     "data": {
      "text/plain": [
       "[{'AzukiTest': [{'testMintMany()': 50742021}]},\n",
       " {'AzukiTest': [{'testSafeMintToERC721Recipient()': 361250}]},\n",
       " {'AzukiTest': [{'testTransferFrom()': 505992}]},\n",
       " {'BlimpieTest': [{'testMintMany()': 286403908}]},\n",
       " {'BlimpieTest': [{'testSafeMintToERC721Recipient()': 338210}]},\n",
       " {'BlimpieTest': [{'testTransferFrom()': 459380}]},\n",
       " {'ERC721KTest': [{'testMintMany()': 46314247}]},\n",
       " {'ERC721KTest': [{'testSafeMintToERC721Recipient()': 363148}]},\n",
       " {'ERC721KTest': [{'testTransferFrom()': 487439}]},\n",
       " {'ElevenFiftyFiveDTest': [{'testMintMany()': 296936107}]},\n",
       " {'ElevenFiftyFiveDTest': [{'testSafeMintToERC721Recipient()': 531217}]},\n",
       " {'ElevenFiftyFiveDTest': [{'testTransferFrom()': 551653}]},\n",
       " {'GeneticChainTest': [{'testMintMany()': 281102498}]},\n",
       " {'GeneticChainTest': [{'testSafeMintToERC721Recipient()': 338486}]},\n",
       " {'GeneticChainTest': [{'testTransferFrom()': 462112}]},\n",
       " {'ManifoldTest': [{'testMintMany()': 521578683}]},\n",
       " {'ManifoldTest': [{'testSafeMintToERC721Recipient()': 409407}]},\n",
       " {'ManifoldTest': [{'testTransferFrom()': 514427}]},\n",
       " {'MasonChanceTest': [{'testMintMany()': 277997374}]},\n",
       " {'MasonChanceTest': [{'testSafeMintToERC721Recipient()': 337139}]},\n",
       " {'MasonChanceTest': [{'testTransferFrom()': 457545}]},\n",
       " {'OZTest': [{'testMintMany()': 284013814}]},\n",
       " {'OZTest': [{'testSafeMintToERC721Recipient()': 337855}]},\n",
       " {'OZTest': [{'testTransferFrom()': 462164}]},\n",
       " {'SolmateTest': [{'testMintMany()': 277997374}]},\n",
       " {'SolmateTest': [{'testSafeMintToERC721Recipient()': 337139}]},\n",
       " {'SolmateTest': [{'testTransferFrom()': 457545}]},\n",
       " {'TinyTest': [{'testMintMany()': 351492825}]},\n",
       " {'TinyTest': [{'testSafeMintToERC721Recipient()': 367049}]},\n",
       " {'TinyTest': [{'testTransferFrom()': 494610}]}]"
      ]
     },
     "execution_count": 6,
     "metadata": {},
     "output_type": "execute_result"
    }
   ],
   "source": [
    "snapshot_processed"
   ]
  },
  {
   "cell_type": "code",
   "execution_count": 7,
   "id": "c25e5961",
   "metadata": {},
   "outputs": [],
   "source": [
    "def merge_dictionaries(list_dic):\n",
    "    res = {}\n",
    "    for items in list_dic:\n",
    "        for key,value in items.items():\n",
    "          res.setdefault(key, {}).update(value[0])\n",
    "    return res\n",
    "        \n",
    "  \n",
    "snapshot_by_imp = merge_dictionaries(snapshot_processed)"
   ]
  },
  {
   "cell_type": "code",
   "execution_count": 8,
   "id": "b2bdd729",
   "metadata": {},
   "outputs": [
    {
     "data": {
      "text/plain": [
       "{'AzukiTest': {'testMintMany()': 50742021,\n",
       "  'testSafeMintToERC721Recipient()': 361250,\n",
       "  'testTransferFrom()': 505992},\n",
       " 'BlimpieTest': {'testMintMany()': 286403908,\n",
       "  'testSafeMintToERC721Recipient()': 338210,\n",
       "  'testTransferFrom()': 459380},\n",
       " 'ERC721KTest': {'testMintMany()': 46314247,\n",
       "  'testSafeMintToERC721Recipient()': 363148,\n",
       "  'testTransferFrom()': 487439},\n",
       " 'ElevenFiftyFiveDTest': {'testMintMany()': 296936107,\n",
       "  'testSafeMintToERC721Recipient()': 531217,\n",
       "  'testTransferFrom()': 551653},\n",
       " 'GeneticChainTest': {'testMintMany()': 281102498,\n",
       "  'testSafeMintToERC721Recipient()': 338486,\n",
       "  'testTransferFrom()': 462112},\n",
       " 'ManifoldTest': {'testMintMany()': 521578683,\n",
       "  'testSafeMintToERC721Recipient()': 409407,\n",
       "  'testTransferFrom()': 514427},\n",
       " 'MasonChanceTest': {'testMintMany()': 277997374,\n",
       "  'testSafeMintToERC721Recipient()': 337139,\n",
       "  'testTransferFrom()': 457545},\n",
       " 'OZTest': {'testMintMany()': 284013814,\n",
       "  'testSafeMintToERC721Recipient()': 337855,\n",
       "  'testTransferFrom()': 462164},\n",
       " 'SolmateTest': {'testMintMany()': 277997374,\n",
       "  'testSafeMintToERC721Recipient()': 337139,\n",
       "  'testTransferFrom()': 457545},\n",
       " 'TinyTest': {'testMintMany()': 351492825,\n",
       "  'testSafeMintToERC721Recipient()': 367049,\n",
       "  'testTransferFrom()': 494610}}"
      ]
     },
     "execution_count": 8,
     "metadata": {},
     "output_type": "execute_result"
    }
   ],
   "source": [
    "snapshot_by_imp"
   ]
  },
  {
   "cell_type": "code",
   "execution_count": 9,
   "id": "89aacd39",
   "metadata": {},
   "outputs": [
    {
     "data": {
      "text/html": [
       "<div>\n",
       "<style scoped>\n",
       "    .dataframe tbody tr th:only-of-type {\n",
       "        vertical-align: middle;\n",
       "    }\n",
       "\n",
       "    .dataframe tbody tr th {\n",
       "        vertical-align: top;\n",
       "    }\n",
       "\n",
       "    .dataframe thead th {\n",
       "        text-align: right;\n",
       "    }\n",
       "</style>\n",
       "<table border=\"1\" class=\"dataframe\">\n",
       "  <thead>\n",
       "    <tr style=\"text-align: right;\">\n",
       "      <th></th>\n",
       "      <th>testMintMany()</th>\n",
       "      <th>testSafeMintToERC721Recipient()</th>\n",
       "      <th>testTransferFrom()</th>\n",
       "    </tr>\n",
       "  </thead>\n",
       "  <tbody>\n",
       "    <tr>\n",
       "      <th>AzukiTest</th>\n",
       "      <td>50742021</td>\n",
       "      <td>361250</td>\n",
       "      <td>505992</td>\n",
       "    </tr>\n",
       "    <tr>\n",
       "      <th>BlimpieTest</th>\n",
       "      <td>286403908</td>\n",
       "      <td>338210</td>\n",
       "      <td>459380</td>\n",
       "    </tr>\n",
       "    <tr>\n",
       "      <th>ERC721KTest</th>\n",
       "      <td>46314247</td>\n",
       "      <td>363148</td>\n",
       "      <td>487439</td>\n",
       "    </tr>\n",
       "    <tr>\n",
       "      <th>ElevenFiftyFiveDTest</th>\n",
       "      <td>296936107</td>\n",
       "      <td>531217</td>\n",
       "      <td>551653</td>\n",
       "    </tr>\n",
       "    <tr>\n",
       "      <th>GeneticChainTest</th>\n",
       "      <td>281102498</td>\n",
       "      <td>338486</td>\n",
       "      <td>462112</td>\n",
       "    </tr>\n",
       "    <tr>\n",
       "      <th>ManifoldTest</th>\n",
       "      <td>521578683</td>\n",
       "      <td>409407</td>\n",
       "      <td>514427</td>\n",
       "    </tr>\n",
       "    <tr>\n",
       "      <th>MasonChanceTest</th>\n",
       "      <td>277997374</td>\n",
       "      <td>337139</td>\n",
       "      <td>457545</td>\n",
       "    </tr>\n",
       "    <tr>\n",
       "      <th>OZTest</th>\n",
       "      <td>284013814</td>\n",
       "      <td>337855</td>\n",
       "      <td>462164</td>\n",
       "    </tr>\n",
       "    <tr>\n",
       "      <th>SolmateTest</th>\n",
       "      <td>277997374</td>\n",
       "      <td>337139</td>\n",
       "      <td>457545</td>\n",
       "    </tr>\n",
       "    <tr>\n",
       "      <th>TinyTest</th>\n",
       "      <td>351492825</td>\n",
       "      <td>367049</td>\n",
       "      <td>494610</td>\n",
       "    </tr>\n",
       "  </tbody>\n",
       "</table>\n",
       "</div>"
      ],
      "text/plain": [
       "                      testMintMany()  testSafeMintToERC721Recipient()  \\\n",
       "AzukiTest                   50742021                           361250   \n",
       "BlimpieTest                286403908                           338210   \n",
       "ERC721KTest                 46314247                           363148   \n",
       "ElevenFiftyFiveDTest       296936107                           531217   \n",
       "GeneticChainTest           281102498                           338486   \n",
       "ManifoldTest               521578683                           409407   \n",
       "MasonChanceTest            277997374                           337139   \n",
       "OZTest                     284013814                           337855   \n",
       "SolmateTest                277997374                           337139   \n",
       "TinyTest                   351492825                           367049   \n",
       "\n",
       "                      testTransferFrom()  \n",
       "AzukiTest                         505992  \n",
       "BlimpieTest                       459380  \n",
       "ERC721KTest                       487439  \n",
       "ElevenFiftyFiveDTest              551653  \n",
       "GeneticChainTest                  462112  \n",
       "ManifoldTest                      514427  \n",
       "MasonChanceTest                   457545  \n",
       "OZTest                            462164  \n",
       "SolmateTest                       457545  \n",
       "TinyTest                          494610  "
      ]
     },
     "execution_count": 9,
     "metadata": {},
     "output_type": "execute_result"
    }
   ],
   "source": [
    "\n",
    "\n",
    "dataframe = pd.DataFrame(snapshot_by_imp)\n",
    " \n",
    "dataframe2 = pd.DataFrame.from_dict(snapshot_by_imp, orient='index')\n",
    "dataframe2"
   ]
  },
  {
   "cell_type": "code",
   "execution_count": 10,
   "id": "8f05a3ce",
   "metadata": {},
   "outputs": [
    {
     "data": {
      "text/plain": [
       "<AxesSubplot:>"
      ]
     },
     "execution_count": 10,
     "metadata": {},
     "output_type": "execute_result"
    },
    {
     "data": {
      "image/png": "[encoded data removed]",
      "text/plain": [
       "<Figure size 432x288 with 1 Axes>"
      ]
     },
     "metadata": {
      "needs_background": "light"
     },
     "output_type": "display_data"
    }
   ],
   "source": [
    "dataframe2.plot.barh(logx=True)"
   ]
  },
  {
   "cell_type": "code",
   "execution_count": 11,
   "id": "52129056",
   "metadata": {},
   "outputs": [
    {
     "data": {
      "text/plain": [
       "<AxesSubplot:>"
      ]
     },
     "execution_count": 11,
     "metadata": {},
     "output_type": "execute_result"
    },
    {
     "data": {
      "image/png": "[encoded data removed]",
      "text/plain": [
       "<Figure size 432x288 with 1 Axes>"
      ]
     },
     "metadata": {
      "needs_background": "light"
     },
     "output_type": "display_data"
    }
   ],
   "source": [
    "dataframe2['testTransferFrom()'].sort_values().plot.barh(logx=True)"
   ]
  },
  {
   "cell_type": "code",
   "execution_count": 12,
   "id": "def44bbb",
   "metadata": {},
   "outputs": [
    {
     "data": {
      "text/plain": [
       "<AxesSubplot:>"
      ]
     },
     "execution_count": 12,
     "metadata": {},
     "output_type": "execute_result"
    },
    {
     "data": {
      "image/png": "[encoded data removed]",
      "text/plain": [
       "<Figure size 432x288 with 1 Axes>"
      ]
     },
     "metadata": {
      "needs_background": "light"
     },
     "output_type": "display_data"
    }
   ],
   "source": [
    "dataframe2['testMintMany()'].sort_values().plot.barh(logx=True)"
   ]
  },
  {
   "cell_type": "code",
   "execution_count": 13,
   "id": "80e7efd4",
   "metadata": {},
   "outputs": [
    {
     "data": {
      "text/plain": [
       "<AxesSubplot:>"
      ]
     },
     "execution_count": 13,
     "metadata": {},
     "output_type": "execute_result"
    },
    {
     "data": {
      "image/png": "[encoded data removed]",
      "text/plain": [
       "<Figure size 432x288 with 1 Axes>"
      ]
     },
     "metadata": {
      "needs_background": "light"
     },
     "output_type": "display_data"
    }
   ],
   "source": [
    "dataframe2['testSafeMintToERC721Recipient()'].sort_values().plot.barh(logx=True)"
   ]
  },
  {
   "cell_type": "code",
   "execution_count": 16,
   "id": "344b4ef9",
   "metadata": {},
   "outputs": [],
   "source": [
    "gasPrice = 30\n",
    "\n",
    "ethereumPrice = 2800\n",
    "\n",
    "\n",
    "dataframe2['price_testSafeMintToERC721Recipient()']= dataframe2.apply(lambda row: row['testSafeMintToERC721Recipient()'] * gasPrice * 10**-9 * ethereumPrice  , axis=1)\n",
    "dataframe2['price_testMintMany()']= dataframe2.apply(lambda row: row['testMintMany()'] * gasPrice * 10**-9 * ethereumPrice  , axis=1)\n",
    "dataframe2['price_testTransferFrom()']= dataframe2.apply(lambda row: row['testTransferFrom()'] * gasPrice * 10**-9 * ethereumPrice  , axis=1)"
   ]
  },
  {
   "cell_type": "code",
   "execution_count": 18,
   "id": "28f68547",
   "metadata": {},
   "outputs": [
    {
     "data": {
      "text/html": [
       "<div>\n",
       "<style scoped>\n",
       "    .dataframe tbody tr th:only-of-type {\n",
       "        vertical-align: middle;\n",
       "    }\n",
       "\n",
       "    .dataframe tbody tr th {\n",
       "        vertical-align: top;\n",
       "    }\n",
       "\n",
       "    .dataframe thead th {\n",
       "        text-align: right;\n",
       "    }\n",
       "</style>\n",
       "<table border=\"1\" class=\"dataframe\">\n",
       "  <thead>\n",
       "    <tr style=\"text-align: right;\">\n",
       "      <th></th>\n",
       "      <th>testMintMany()</th>\n",
       "      <th>testSafeMintToERC721Recipient()</th>\n",
       "      <th>testTransferFrom()</th>\n",
       "      <th>price_testSafeMintToERC721Recipient()</th>\n",
       "      <th>price_testMintMany()</th>\n",
       "      <th>price_testTransferFrom()</th>\n",
       "    </tr>\n",
       "  </thead>\n",
       "  <tbody>\n",
       "    <tr>\n",
       "      <th>AzukiTest</th>\n",
       "      <td>50742021</td>\n",
       "      <td>361250</td>\n",
       "      <td>505992</td>\n",
       "      <td>30.345000</td>\n",
       "      <td>4262.329764</td>\n",
       "      <td>42.503328</td>\n",
       "    </tr>\n",
       "    <tr>\n",
       "      <th>BlimpieTest</th>\n",
       "      <td>286403908</td>\n",
       "      <td>338210</td>\n",
       "      <td>459380</td>\n",
       "      <td>28.409640</td>\n",
       "      <td>24057.928272</td>\n",
       "      <td>38.587920</td>\n",
       "    </tr>\n",
       "    <tr>\n",
       "      <th>ERC721KTest</th>\n",
       "      <td>46314247</td>\n",
       "      <td>363148</td>\n",
       "      <td>487439</td>\n",
       "      <td>30.504432</td>\n",
       "      <td>3890.396748</td>\n",
       "      <td>40.944876</td>\n",
       "    </tr>\n",
       "    <tr>\n",
       "      <th>ElevenFiftyFiveDTest</th>\n",
       "      <td>296936107</td>\n",
       "      <td>531217</td>\n",
       "      <td>551653</td>\n",
       "      <td>44.622228</td>\n",
       "      <td>24942.632988</td>\n",
       "      <td>46.338852</td>\n",
       "    </tr>\n",
       "    <tr>\n",
       "      <th>GeneticChainTest</th>\n",
       "      <td>281102498</td>\n",
       "      <td>338486</td>\n",
       "      <td>462112</td>\n",
       "      <td>28.432824</td>\n",
       "      <td>23612.609832</td>\n",
       "      <td>38.817408</td>\n",
       "    </tr>\n",
       "    <tr>\n",
       "      <th>ManifoldTest</th>\n",
       "      <td>521578683</td>\n",
       "      <td>409407</td>\n",
       "      <td>514427</td>\n",
       "      <td>34.390188</td>\n",
       "      <td>43812.609372</td>\n",
       "      <td>43.211868</td>\n",
       "    </tr>\n",
       "    <tr>\n",
       "      <th>MasonChanceTest</th>\n",
       "      <td>277997374</td>\n",
       "      <td>337139</td>\n",
       "      <td>457545</td>\n",
       "      <td>28.319676</td>\n",
       "      <td>23351.779416</td>\n",
       "      <td>38.433780</td>\n",
       "    </tr>\n",
       "    <tr>\n",
       "      <th>OZTest</th>\n",
       "      <td>284013814</td>\n",
       "      <td>337855</td>\n",
       "      <td>462164</td>\n",
       "      <td>28.379820</td>\n",
       "      <td>23857.160376</td>\n",
       "      <td>38.821776</td>\n",
       "    </tr>\n",
       "    <tr>\n",
       "      <th>SolmateTest</th>\n",
       "      <td>277997374</td>\n",
       "      <td>337139</td>\n",
       "      <td>457545</td>\n",
       "      <td>28.319676</td>\n",
       "      <td>23351.779416</td>\n",
       "      <td>38.433780</td>\n",
       "    </tr>\n",
       "    <tr>\n",
       "      <th>TinyTest</th>\n",
       "      <td>351492825</td>\n",
       "      <td>367049</td>\n",
       "      <td>494610</td>\n",
       "      <td>30.832116</td>\n",
       "      <td>29525.397300</td>\n",
       "      <td>41.547240</td>\n",
       "    </tr>\n",
       "  </tbody>\n",
       "</table>\n",
       "</div>"
      ],
      "text/plain": [
       "                      testMintMany()  testSafeMintToERC721Recipient()  \\\n",
       "AzukiTest                   50742021                           361250   \n",
       "BlimpieTest                286403908                           338210   \n",
       "ERC721KTest                 46314247                           363148   \n",
       "ElevenFiftyFiveDTest       296936107                           531217   \n",
       "GeneticChainTest           281102498                           338486   \n",
       "ManifoldTest               521578683                           409407   \n",
       "MasonChanceTest            277997374                           337139   \n",
       "OZTest                     284013814                           337855   \n",
       "SolmateTest                277997374                           337139   \n",
       "TinyTest                   351492825                           367049   \n",
       "\n",
       "                      testTransferFrom()  \\\n",
       "AzukiTest                         505992   \n",
       "BlimpieTest                       459380   \n",
       "ERC721KTest                       487439   \n",
       "ElevenFiftyFiveDTest              551653   \n",
       "GeneticChainTest                  462112   \n",
       "ManifoldTest                      514427   \n",
       "MasonChanceTest                   457545   \n",
       "OZTest                            462164   \n",
       "SolmateTest                       457545   \n",
       "TinyTest                          494610   \n",
       "\n",
       "                      price_testSafeMintToERC721Recipient()  \\\n",
       "AzukiTest                                         30.345000   \n",
       "BlimpieTest                                       28.409640   \n",
       "ERC721KTest                                       30.504432   \n",
       "ElevenFiftyFiveDTest                              44.622228   \n",
       "GeneticChainTest                                  28.432824   \n",
       "ManifoldTest                                      34.390188   \n",
       "MasonChanceTest                                   28.319676   \n",
       "OZTest                                            28.379820   \n",
       "SolmateTest                                       28.319676   \n",
       "TinyTest                                          30.832116   \n",
       "\n",
       "                      price_testMintMany()  price_testTransferFrom()  \n",
       "AzukiTest                      4262.329764                 42.503328  \n",
       "BlimpieTest                   24057.928272                 38.587920  \n",
       "ERC721KTest                    3890.396748                 40.944876  \n",
       "ElevenFiftyFiveDTest          24942.632988                 46.338852  \n",
       "GeneticChainTest              23612.609832                 38.817408  \n",
       "ManifoldTest                  43812.609372                 43.211868  \n",
       "MasonChanceTest               23351.779416                 38.433780  \n",
       "OZTest                        23857.160376                 38.821776  \n",
       "SolmateTest                   23351.779416                 38.433780  \n",
       "TinyTest                      29525.397300                 41.547240  "
      ]
     },
     "execution_count": 18,
     "metadata": {},
     "output_type": "execute_result"
    }
   ],
   "source": [
    "dataframe2"
   ]
  },
  {
   "cell_type": "code",
   "execution_count": 27,
   "id": "c71132e5",
   "metadata": {},
   "outputs": [
    {
     "data": {
      "text/html": [
       "<div>\n",
       "<style scoped>\n",
       "    .dataframe tbody tr th:only-of-type {\n",
       "        vertical-align: middle;\n",
       "    }\n",
       "\n",
       "    .dataframe tbody tr th {\n",
       "        vertical-align: top;\n",
       "    }\n",
       "\n",
       "    .dataframe thead th {\n",
       "        text-align: right;\n",
       "    }\n",
       "</style>\n",
       "<table border=\"1\" class=\"dataframe\">\n",
       "  <thead>\n",
       "    <tr style=\"text-align: right;\">\n",
       "      <th></th>\n",
       "      <th>price_testSafeMintToERC721Recipient()</th>\n",
       "      <th>price_testMintMany()</th>\n",
       "      <th>price_testTransferFrom()</th>\n",
       "    </tr>\n",
       "  </thead>\n",
       "  <tbody>\n",
       "    <tr>\n",
       "      <th>AzukiTest</th>\n",
       "      <td>30.345000</td>\n",
       "      <td>4262.329764</td>\n",
       "      <td>42.503328</td>\n",
       "    </tr>\n",
       "    <tr>\n",
       "      <th>BlimpieTest</th>\n",
       "      <td>28.409640</td>\n",
       "      <td>24057.928272</td>\n",
       "      <td>38.587920</td>\n",
       "    </tr>\n",
       "    <tr>\n",
       "      <th>ERC721KTest</th>\n",
       "      <td>30.504432</td>\n",
       "      <td>3890.396748</td>\n",
       "      <td>40.944876</td>\n",
       "    </tr>\n",
       "    <tr>\n",
       "      <th>ElevenFiftyFiveDTest</th>\n",
       "      <td>44.622228</td>\n",
       "      <td>24942.632988</td>\n",
       "      <td>46.338852</td>\n",
       "    </tr>\n",
       "    <tr>\n",
       "      <th>GeneticChainTest</th>\n",
       "      <td>28.432824</td>\n",
       "      <td>23612.609832</td>\n",
       "      <td>38.817408</td>\n",
       "    </tr>\n",
       "    <tr>\n",
       "      <th>ManifoldTest</th>\n",
       "      <td>34.390188</td>\n",
       "      <td>43812.609372</td>\n",
       "      <td>43.211868</td>\n",
       "    </tr>\n",
       "    <tr>\n",
       "      <th>MasonChanceTest</th>\n",
       "      <td>28.319676</td>\n",
       "      <td>23351.779416</td>\n",
       "      <td>38.433780</td>\n",
       "    </tr>\n",
       "    <tr>\n",
       "      <th>OZTest</th>\n",
       "      <td>28.379820</td>\n",
       "      <td>23857.160376</td>\n",
       "      <td>38.821776</td>\n",
       "    </tr>\n",
       "    <tr>\n",
       "      <th>SolmateTest</th>\n",
       "      <td>28.319676</td>\n",
       "      <td>23351.779416</td>\n",
       "      <td>38.433780</td>\n",
       "    </tr>\n",
       "    <tr>\n",
       "      <th>TinyTest</th>\n",
       "      <td>30.832116</td>\n",
       "      <td>29525.397300</td>\n",
       "      <td>41.547240</td>\n",
       "    </tr>\n",
       "  </tbody>\n",
       "</table>\n",
       "</div>"
      ],
      "text/plain": [
       "                      price_testSafeMintToERC721Recipient()  \\\n",
       "AzukiTest                                         30.345000   \n",
       "BlimpieTest                                       28.409640   \n",
       "ERC721KTest                                       30.504432   \n",
       "ElevenFiftyFiveDTest                              44.622228   \n",
       "GeneticChainTest                                  28.432824   \n",
       "ManifoldTest                                      34.390188   \n",
       "MasonChanceTest                                   28.319676   \n",
       "OZTest                                            28.379820   \n",
       "SolmateTest                                       28.319676   \n",
       "TinyTest                                          30.832116   \n",
       "\n",
       "                      price_testMintMany()  price_testTransferFrom()  \n",
       "AzukiTest                      4262.329764                 42.503328  \n",
       "BlimpieTest                   24057.928272                 38.587920  \n",
       "ERC721KTest                    3890.396748                 40.944876  \n",
       "ElevenFiftyFiveDTest          24942.632988                 46.338852  \n",
       "GeneticChainTest              23612.609832                 38.817408  \n",
       "ManifoldTest                  43812.609372                 43.211868  \n",
       "MasonChanceTest               23351.779416                 38.433780  \n",
       "OZTest                        23857.160376                 38.821776  \n",
       "SolmateTest                   23351.779416                 38.433780  \n",
       "TinyTest                      29525.397300                 41.547240  "
      ]
     },
     "execution_count": 27,
     "metadata": {},
     "output_type": "execute_result"
    }
   ],
   "source": [
    "dataframe2.filter(regex=(\"price_*\"))"
   ]
  },
  {
   "cell_type": "code",
   "execution_count": null,
   "id": "0ee9dd02",
   "metadata": {},
   "outputs": [],
   "source": []
  }
 ],
 "metadata": {
  "kernelspec": {
   "display_name": "Python 3",
   "language": "python",
   "name": "python3"
  },
  "language_info": {
   "codemirror_mode": {
    "name": "ipython",
    "version": 3
   },
   "file_extension": ".py",
   "mimetype": "text/x-python",
   "name": "python",
   "nbconvert_exporter": "python",
   "pygments_lexer": "ipython3",
   "version": "3.9.10"
  }
 },
 "nbformat": 4,
 "nbformat_minor": 5
}
